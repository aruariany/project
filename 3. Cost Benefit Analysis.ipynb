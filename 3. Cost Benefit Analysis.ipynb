{
 "cells": [
  {
   "cell_type": "code",
   "execution_count": 1,
   "metadata": {},
   "outputs": [],
   "source": [
    "import numpy as np\n",
    "import pandas as pd\n",
    "import matplotlib.pyplot as plt\n",
    "import seaborn as sns\n",
    "plt.style.use('default')"
   ]
  },
  {
   "cell_type": "code",
   "execution_count": 2,
   "metadata": {
    "scrolled": false
   },
   "outputs": [
    {
     "data": {
      "text/html": [
       "<div>\n",
       "<style scoped>\n",
       "    .dataframe tbody tr th:only-of-type {\n",
       "        vertical-align: middle;\n",
       "    }\n",
       "\n",
       "    .dataframe tbody tr th {\n",
       "        vertical-align: top;\n",
       "    }\n",
       "\n",
       "    .dataframe thead th {\n",
       "        text-align: right;\n",
       "    }\n",
       "</style>\n",
       "<table border=\"1\" class=\"dataframe\">\n",
       "  <thead>\n",
       "    <tr style=\"text-align: right;\">\n",
       "      <th></th>\n",
       "      <th>Manufacturer</th>\n",
       "      <th>Model</th>\n",
       "      <th>Rated Power</th>\n",
       "      <th>Rotor Diameter</th>\n",
       "      <th>Hub Height</th>\n",
       "      <th>Cut-in Speed</th>\n",
       "      <th>Cut-out Speed</th>\n",
       "      <th>Rated Wind Speed</th>\n",
       "    </tr>\n",
       "  </thead>\n",
       "  <tbody>\n",
       "    <tr>\n",
       "      <th>0</th>\n",
       "      <td>Enercon</td>\n",
       "      <td>Enercon E103/2.35MW</td>\n",
       "      <td>2350</td>\n",
       "      <td>103</td>\n",
       "      <td>100</td>\n",
       "      <td>2.5</td>\n",
       "      <td>25</td>\n",
       "      <td>12.0</td>\n",
       "    </tr>\n",
       "    <tr>\n",
       "      <th>1</th>\n",
       "      <td>Suzlon</td>\n",
       "      <td>Suzlon S97/2.1MW</td>\n",
       "      <td>2100</td>\n",
       "      <td>97</td>\n",
       "      <td>100</td>\n",
       "      <td>4.0</td>\n",
       "      <td>25</td>\n",
       "      <td>12.5</td>\n",
       "    </tr>\n",
       "    <tr>\n",
       "      <th>2</th>\n",
       "      <td>Unison</td>\n",
       "      <td>Unison U93/2MW</td>\n",
       "      <td>2000</td>\n",
       "      <td>93</td>\n",
       "      <td>100</td>\n",
       "      <td>3.5</td>\n",
       "      <td>25</td>\n",
       "      <td>11.0</td>\n",
       "    </tr>\n",
       "  </tbody>\n",
       "</table>\n",
       "</div>"
      ],
      "text/plain": [
       "  Manufacturer                Model  Rated Power  Rotor Diameter  Hub Height  \\\n",
       "0      Enercon  Enercon E103/2.35MW         2350             103         100   \n",
       "1       Suzlon     Suzlon S97/2.1MW         2100              97         100   \n",
       "2       Unison       Unison U93/2MW         2000              93         100   \n",
       "\n",
       "   Cut-in Speed  Cut-out Speed  Rated Wind Speed  \n",
       "0           2.5             25              12.0  \n",
       "1           4.0             25              12.5  \n",
       "2           3.5             25              11.0  "
      ]
     },
     "execution_count": 2,
     "metadata": {},
     "output_type": "execute_result"
    }
   ],
   "source": [
    "turbine_spec = pd.read_csv('csv/turbine.csv')\n",
    "turbine_spec"
   ]
  },
  {
   "cell_type": "code",
   "execution_count": 3,
   "metadata": {},
   "outputs": [
    {
     "data": {
      "text/html": [
       "<div>\n",
       "<style scoped>\n",
       "    .dataframe tbody tr th:only-of-type {\n",
       "        vertical-align: middle;\n",
       "    }\n",
       "\n",
       "    .dataframe tbody tr th {\n",
       "        vertical-align: top;\n",
       "    }\n",
       "\n",
       "    .dataframe thead th {\n",
       "        text-align: right;\n",
       "    }\n",
       "</style>\n",
       "<table border=\"1\" class=\"dataframe\">\n",
       "  <thead>\n",
       "    <tr style=\"text-align: right;\">\n",
       "      <th></th>\n",
       "      <th>Unnamed: 0</th>\n",
       "      <th>name</th>\n",
       "      <th>lat</th>\n",
       "      <th>long</th>\n",
       "      <th>avg</th>\n",
       "      <th>c</th>\n",
       "      <th>k</th>\n",
       "      <th>mse</th>\n",
       "    </tr>\n",
       "  </thead>\n",
       "  <tbody>\n",
       "    <tr>\n",
       "      <th>0</th>\n",
       "      <td>0</td>\n",
       "      <td>S05.512_E119.406</td>\n",
       "      <td>-5.512</td>\n",
       "      <td>119.406</td>\n",
       "      <td>6.458895</td>\n",
       "      <td>7.276477</td>\n",
       "      <td>2.141161</td>\n",
       "      <td>0.000175</td>\n",
       "    </tr>\n",
       "    <tr>\n",
       "      <th>1</th>\n",
       "      <td>1</td>\n",
       "      <td>S05.512_E119.433</td>\n",
       "      <td>-5.512</td>\n",
       "      <td>119.433</td>\n",
       "      <td>6.412365</td>\n",
       "      <td>7.223399</td>\n",
       "      <td>2.150409</td>\n",
       "      <td>0.000149</td>\n",
       "    </tr>\n",
       "    <tr>\n",
       "      <th>2</th>\n",
       "      <td>2</td>\n",
       "      <td>S05.512_E119.460</td>\n",
       "      <td>-5.512</td>\n",
       "      <td>119.460</td>\n",
       "      <td>6.418179</td>\n",
       "      <td>7.228854</td>\n",
       "      <td>2.166980</td>\n",
       "      <td>0.000139</td>\n",
       "    </tr>\n",
       "    <tr>\n",
       "      <th>3</th>\n",
       "      <td>3</td>\n",
       "      <td>S05.512_E119.487</td>\n",
       "      <td>-5.512</td>\n",
       "      <td>119.487</td>\n",
       "      <td>6.421796</td>\n",
       "      <td>7.231644</td>\n",
       "      <td>2.164434</td>\n",
       "      <td>0.000135</td>\n",
       "    </tr>\n",
       "    <tr>\n",
       "      <th>4</th>\n",
       "      <td>4</td>\n",
       "      <td>S05.512_E119.514</td>\n",
       "      <td>-5.512</td>\n",
       "      <td>119.514</td>\n",
       "      <td>6.412445</td>\n",
       "      <td>7.219531</td>\n",
       "      <td>2.165837</td>\n",
       "      <td>0.000143</td>\n",
       "    </tr>\n",
       "    <tr>\n",
       "      <th>...</th>\n",
       "      <td>...</td>\n",
       "      <td>...</td>\n",
       "      <td>...</td>\n",
       "      <td>...</td>\n",
       "      <td>...</td>\n",
       "      <td>...</td>\n",
       "      <td>...</td>\n",
       "      <td>...</td>\n",
       "    </tr>\n",
       "    <tr>\n",
       "      <th>139</th>\n",
       "      <td>139</td>\n",
       "      <td>S05.809_E119.595</td>\n",
       "      <td>-5.809</td>\n",
       "      <td>119.595</td>\n",
       "      <td>7.217232</td>\n",
       "      <td>8.114077</td>\n",
       "      <td>2.343465</td>\n",
       "      <td>0.000220</td>\n",
       "    </tr>\n",
       "    <tr>\n",
       "      <th>140</th>\n",
       "      <td>140</td>\n",
       "      <td>S05.809_E119.622</td>\n",
       "      <td>-5.809</td>\n",
       "      <td>119.622</td>\n",
       "      <td>7.215866</td>\n",
       "      <td>8.110314</td>\n",
       "      <td>2.362114</td>\n",
       "      <td>0.000238</td>\n",
       "    </tr>\n",
       "    <tr>\n",
       "      <th>141</th>\n",
       "      <td>141</td>\n",
       "      <td>S05.809_E119.649</td>\n",
       "      <td>-5.809</td>\n",
       "      <td>119.649</td>\n",
       "      <td>7.206370</td>\n",
       "      <td>8.097183</td>\n",
       "      <td>2.382432</td>\n",
       "      <td>0.000247</td>\n",
       "    </tr>\n",
       "    <tr>\n",
       "      <th>142</th>\n",
       "      <td>142</td>\n",
       "      <td>S05.809_E119.676</td>\n",
       "      <td>-5.809</td>\n",
       "      <td>119.676</td>\n",
       "      <td>7.116381</td>\n",
       "      <td>7.994590</td>\n",
       "      <td>2.399925</td>\n",
       "      <td>0.000288</td>\n",
       "    </tr>\n",
       "    <tr>\n",
       "      <th>143</th>\n",
       "      <td>143</td>\n",
       "      <td>S05.809_E119.703</td>\n",
       "      <td>-5.809</td>\n",
       "      <td>119.703</td>\n",
       "      <td>7.085764</td>\n",
       "      <td>7.958573</td>\n",
       "      <td>2.411106</td>\n",
       "      <td>0.000314</td>\n",
       "    </tr>\n",
       "  </tbody>\n",
       "</table>\n",
       "<p>144 rows × 8 columns</p>\n",
       "</div>"
      ],
      "text/plain": [
       "     Unnamed: 0              name    lat     long       avg         c  \\\n",
       "0             0  S05.512_E119.406 -5.512  119.406  6.458895  7.276477   \n",
       "1             1  S05.512_E119.433 -5.512  119.433  6.412365  7.223399   \n",
       "2             2  S05.512_E119.460 -5.512  119.460  6.418179  7.228854   \n",
       "3             3  S05.512_E119.487 -5.512  119.487  6.421796  7.231644   \n",
       "4             4  S05.512_E119.514 -5.512  119.514  6.412445  7.219531   \n",
       "..          ...               ...    ...      ...       ...       ...   \n",
       "139         139  S05.809_E119.595 -5.809  119.595  7.217232  8.114077   \n",
       "140         140  S05.809_E119.622 -5.809  119.622  7.215866  8.110314   \n",
       "141         141  S05.809_E119.649 -5.809  119.649  7.206370  8.097183   \n",
       "142         142  S05.809_E119.676 -5.809  119.676  7.116381  7.994590   \n",
       "143         143  S05.809_E119.703 -5.809  119.703  7.085764  7.958573   \n",
       "\n",
       "            k       mse  \n",
       "0    2.141161  0.000175  \n",
       "1    2.150409  0.000149  \n",
       "2    2.166980  0.000139  \n",
       "3    2.164434  0.000135  \n",
       "4    2.165837  0.000143  \n",
       "..        ...       ...  \n",
       "139  2.343465  0.000220  \n",
       "140  2.362114  0.000238  \n",
       "141  2.382432  0.000247  \n",
       "142  2.399925  0.000288  \n",
       "143  2.411106  0.000314  \n",
       "\n",
       "[144 rows x 8 columns]"
      ]
     },
     "execution_count": 3,
     "metadata": {},
     "output_type": "execute_result"
    }
   ],
   "source": [
    "wind_data = pd.read_csv('csv/weibull_fitting.csv')\n",
    "wind_data"
   ]
  },
  {
   "cell_type": "code",
   "execution_count": 4,
   "metadata": {},
   "outputs": [],
   "source": [
    "enercon = pd.read_csv('csv/enercon.csv')\n",
    "suzlon = pd.read_csv('csv/suzlon.csv')\n",
    "unison = pd.read_csv('csv/unison.csv')"
   ]
  },
  {
   "cell_type": "code",
   "execution_count": 5,
   "metadata": {},
   "outputs": [],
   "source": [
    "for turbine, loc in zip([enercon, suzlon, unison], [0, 1, 2]):\n",
    "    turbine['h'] = turbine_spec['Hub Height'].loc[loc]\n",
    "    turbine['d'] = turbine_spec['Rotor Diameter'].loc[loc]\n",
    "    turbine['Pwt'] = turbine_spec['Rated Power'].loc[loc]\n",
    "    turbine['k'] = wind_data['k']\n",
    "    turbine['c'] = wind_data['c']"
   ]
  },
  {
   "cell_type": "code",
   "execution_count": 6,
   "metadata": {},
   "outputs": [],
   "source": [
    "for turbine in [enercon, suzlon, unison]:\n",
    "    turbine.columns = ['lat', 'long', 'nwt', 'D', 'h', 'd', 'Pwt', 'k', 'c']"
   ]
  },
  {
   "cell_type": "code",
   "execution_count": 7,
   "metadata": {},
   "outputs": [],
   "source": [
    "e_curve = pd.read_csv('csv/enercon_curve.csv')\n",
    "s_curve = pd.read_csv('csv/suzlon_curve.csv')\n",
    "u_curve = pd.read_csv('csv/unison_curve.csv')"
   ]
  },
  {
   "cell_type": "code",
   "execution_count": 9,
   "metadata": {},
   "outputs": [],
   "source": [
    "from scipy.interpolate import interp1d\n",
    "import scipy.integrate as integrate"
   ]
  },
  {
   "cell_type": "code",
   "execution_count": 10,
   "metadata": {},
   "outputs": [],
   "source": [
    "# enercon\n",
    "enercon_power = interp1d(e_curve['v'][1:], e_curve['kW'][1:], fill_value=\"extrapolate\")\n",
    "\n",
    "def e_function(U):\n",
    "    return weibull(U) * enercon_power(U) * 8760 * 0.925\n",
    "\n",
    "e_AEP = []\n",
    "for i in range(144):\n",
    "    shape = wind_data['k'].loc[i]\n",
    "    scale = wind_data['c'].loc[i]\n",
    "    weibull = lambda U: (shape / scale) * (U / scale)**(shape - 1) * np.exp(-(U / scale)**shape)\n",
    "    energy = integrate.quad(e_function, 0 , 100, points=e_curve['v'][1:], limit=100)[0]\n",
    "    e_AEP.append(energy)\n",
    "    \n",
    "enercon['AEP (kWh)'] = e_AEP"
   ]
  },
  {
   "cell_type": "code",
   "execution_count": 11,
   "metadata": {},
   "outputs": [],
   "source": [
    "# suzlon\n",
    "suzlon_power = interp1d(s_curve['v'][1:], s_curve['kW'][1:], fill_value=\"extrapolate\")\n",
    "\n",
    "def s_function(U):\n",
    "    return weibull(U) * suzlon_power(U) * 8760 * 0.925\n",
    "\n",
    "s_AEP = []\n",
    "for i in range(144):\n",
    "    shape = wind_data['k'].loc[i]\n",
    "    scale = wind_data['c'].loc[i]\n",
    "    weibull = lambda U: (shape / scale) * (U / scale)**(shape - 1) * np.exp(-(U / scale)**shape)\n",
    "    energy = integrate.quad(s_function, 0 , 100, points=s_curve['v'][1:], limit=100)[0]\n",
    "    s_AEP.append(energy)\n",
    "    \n",
    "suzlon['AEP (kWh)'] = s_AEP"
   ]
  },
  {
   "cell_type": "code",
   "execution_count": 12,
   "metadata": {},
   "outputs": [],
   "source": [
    "# unison\n",
    "unison_power = interp1d(u_curve['v'][1:], u_curve['kW'][1:], fill_value=\"extrapolate\")\n",
    "\n",
    "def u_function(U):\n",
    "    return weibull(U) * unison_power(U) * 8760 * 0.925\n",
    "\n",
    "u_AEP = []\n",
    "for i in range(144):\n",
    "    shape = wind_data['k'].loc[i]\n",
    "    scale = wind_data['c'].loc[i]\n",
    "    weibull = lambda U: (shape / scale) * (U / scale)**(shape - 1) * np.exp(-(U / scale)**shape)\n",
    "    energy = integrate.quad(u_function, 0 , 100, points=u_curve['v'][1:], limit=100)[0]\n",
    "    u_AEP.append(energy)\n",
    "    \n",
    "unison['AEP (kWh)'] = u_AEP"
   ]
  },
  {
   "cell_type": "code",
   "execution_count": null,
   "metadata": {},
   "outputs": [],
   "source": [
    "x = np.linspace(0, 30, 100)\n",
    "\n",
    "fig, ax = plt.subplots(1, figsize=(6,4))\n",
    "ax.plot(u_curve['v'], u_curve['kW'], label='Unison')\n",
    "ax.plot(s_curve['v'], s_curve['kW'], label='Suzlon')\n",
    "ax.plot(e_curve['v'], e_curve['kW'], label='Enercon')\n",
    "ax.set_xlim(0,27)\n",
    "ax.set_ylim(0,2500)\n",
    "\n",
    "ax.text(25.5, 1950, '2000 Unison', color='blue', size=10)\n",
    "ax.text(25.5, 2050, '2100 Suzlon', color='darkorange', size=10)\n",
    "ax.text(25.5, 2300, '2350 Enercon', color='green', size=10)\n",
    "\n",
    "ax.spines['right'].set_visible(False)\n",
    "ax.spines['top'].set_visible(False)\n",
    "ax.spines['left'].set_color('dimgray')\n",
    "ax.spines['bottom'].set_color('dimgray')\n",
    "ax.tick_params(colors='dimgray')\n",
    "\n",
    "ax.set_xlabel('kecepatan angin (m/detik)')\n",
    "ax.set_ylabel('daya (kW)')\n",
    "plt.axvline(x=25, color='silver', ls=':')\n",
    "ax.text(25.5, 100, \"cutout speed \\npada 25 m/detik\", color='grey');\n",
    "\n",
    "# ax.legend(loc='lower right', frameon=False, fontsize=10, bbox_to_anchor=(0.25, 0.75))"
   ]
  },
  {
   "cell_type": "code",
   "execution_count": 13,
   "metadata": {},
   "outputs": [],
   "source": [
    "for turbine in [enercon, suzlon, unison]:\n",
    "    turbine['CF'] = turbine['AEP (kWh)']/(turbine['Pwt']*8760)"
   ]
  },
  {
   "cell_type": "code",
   "execution_count": 14,
   "metadata": {},
   "outputs": [],
   "source": [
    "import math\n",
    "\n",
    "def haversine(lat1, long1, lat2, long2):\n",
    "    # calculate distance between coordinate1(long1, lat1) and coordinate2(long2, lat2)\n",
    "\n",
    "    R = 6371000  # radius of Earth in meters\n",
    "    phi_1 = math.radians(lat1)\n",
    "    phi_2 = math.radians(lat2)\n",
    "\n",
    "    delta_phi = math.radians(lat2 - lat1)\n",
    "    delta_lambda = math.radians(long2 - long1)\n",
    "\n",
    "    a = math.sin(delta_phi / 2.0) ** 2 + math.cos(phi_1) * math.cos(phi_2) * math.sin(delta_lambda / 2.0) ** 2\n",
    "    c = 2 * math.atan2(math.sqrt(a), math.sqrt(1 - a))\n",
    "\n",
    "    return R * c / 1000  # output distance in km"
   ]
  },
  {
   "cell_type": "code",
   "execution_count": 15,
   "metadata": {},
   "outputs": [],
   "source": [
    "# coordinate of two closest grid station\n",
    "\n",
    "lat_B, long_B = (-5.582, 119.569) # PLN Benteng\n",
    "lat_T, long_T = (-5.463, 119.474) # Gardu Induk Tallasa"
   ]
  },
  {
   "cell_type": "code",
   "execution_count": 16,
   "metadata": {},
   "outputs": [],
   "source": [
    "# calculate distance\n",
    "\n",
    "for turbine in [enercon, suzlon, unison]:\n",
    "    dt= []\n",
    "    grid= []\n",
    "    for i in range(144):\n",
    "        distance_B = haversine(turbine['lat'].loc[i], turbine['long'].loc[i], lat_B, long_B)\n",
    "        distance_T = haversine(turbine['lat'].loc[i], turbine['long'].loc[i], lat_T, long_T)\n",
    "        if distance_B <= distance_T:\n",
    "            dt.append(distance_B)\n",
    "            grid.append(\"PLN Benteng\")\n",
    "        else:\n",
    "            dt.append(distance_T)\n",
    "            grid.append(\"GI Tallasa\")\n",
    "    turbine['dt'] = dt\n",
    "    turbine['Grid'] = grid\n",
    "    \n",
    "for turbine in [enercon, suzlon, unison]:\n",
    "    turbine['dt(shore)'] = turbine['dt'] * 0.65"
   ]
  },
  {
   "cell_type": "code",
   "execution_count": 17,
   "metadata": {},
   "outputs": [],
   "source": [
    "# calculate cost\n",
    "\n",
    "kurs = 16755 * 1000\n",
    "\n",
    "for turbine in [enercon, suzlon, unison]:\n",
    "    turbine['Cwt'] = 1.1 * turbine['nwt'] * (2.95 * 10**3 * np.log(turbine['Pwt']/1000) - 375.2)\n",
    "    turbine['Cf'] = 1.5 * turbine['nwt'] * (320 * turbine['Pwt']/1000 * (1+ 0.02*(turbine['D']*(-1)-8)) * (1+ 0.8*(10**(-6)) * (turbine['h'] * (turbine['d']/2)**2 - 10**5)))\n",
    "    turbine['Cp'] = 100 / 50.9 * (turbine['Cwt'])\n",
    "    turbine['Ccs'] = 6.6/100 * turbine['Cp'] * (1+ 0.0023* (turbine['D']*(-1) -10))\n",
    "    turbine['Cis'] = 7.1/100 * turbine['Cp']\n",
    "    turbine['Cts'] = 9.1/100 * turbine['Cp'] * (1+ 0.0493*(turbine['dt(shore)']-3)) \n",
    "    turbine['Cse'] = 75 * turbine['nwt']\n",
    "    turbine['Cd'] = 46.8 * turbine['Pwt']/1000 * turbine['nwt']\n",
    "    turbine['Cost'] = (turbine['Cwt'] + turbine['Cf'] + turbine['Ccs'] + turbine['Cis'] + turbine['Cts'] + turbine['Cse'] + turbine['Cd']) * kurs\n",
    "    "
   ]
  },
  {
   "cell_type": "code",
   "execution_count": 18,
   "metadata": {},
   "outputs": [],
   "source": [
    "# economic parameter\n",
    "\n",
    "t_op = 25       # operating period\n",
    "t_con = 2       # construction period from 0 year\n",
    "t_re = 10       # payback period\n",
    "deg = 1.6/100     # system degradation\n",
    "OM = 2 /100     # operation and maintenance rate\n",
    "r_inf = 3/100   # %rate of inflation \n",
    "r_d = 4/100     # % discount rate\n",
    "r_i = 5/100     # % borrowing interest rate\n",
    "r_c = 80/100    # % borrowing capital rate   \n",
    "tax = 22/100    # corporate tax rate\n",
    "price = 1650   \n",
    "\n",
    "# price of electricity (avg) idr/kWh) 1463(sidrap) 1175(kepmen no 55 k) 1762 (1:1.5 ratio of onshore and offshore)\n",
    "\n",
    "for turbine in [enercon, suzlon, unison]:\n",
    "    turbine['Benefit'] = price * turbine['nwt'] * turbine['AEP (kWh)']\n",
    "    \n",
    "def invcost(inv, t):\n",
    "    if t <= t_con:\n",
    "        return (inv/(t_con) * (1 - r_c))/(1+r_d)**t\n",
    "    elif t > (t_con + t_re):\n",
    "        return 0\n",
    "    else:\n",
    "        return (r_c * inv / (t_re) * (1+ r_i*(t_con+t_re-t-1)))/(1+r_d)**t\n",
    "    \n",
    "def mcost(inv, t):\n",
    "    if t <= t_con:\n",
    "        return 0\n",
    "    else:\n",
    "        return (inv * OM * (1+r_inf)**t)/(1+r_d)**t\n",
    "    \n",
    "def taxcost(aep, t):\n",
    "    if t <= t_con:\n",
    "        return 0\n",
    "    else: \n",
    "        return (aep *(1-deg*(t-t_con)) * tax)/(1+r_d)**t\n",
    "    \n",
    "def benefit(aep, t):\n",
    "    if t <= t_con:\n",
    "        return 0\n",
    "    else:   \n",
    "        return ((aep) *(1-deg*(t-t_con)))/(1+r_d)**t"
   ]
  },
  {
   "cell_type": "code",
   "execution_count": 19,
   "metadata": {
    "scrolled": true
   },
   "outputs": [],
   "source": [
    "for turbine in [enercon, suzlon, unison]:\n",
    "    turbine['Cost'] = turbine['Cost'].mask(turbine['nwt']==0, 0)\n",
    "    turbine['Benefit'] = turbine['Benefit'].mask(turbine['nwt']==0, 0)"
   ]
  },
  {
   "cell_type": "code",
   "execution_count": 20,
   "metadata": {},
   "outputs": [],
   "source": [
    "bcr_col = np.arange(0,t_op + t_con + 1, 1)\n",
    "bcr_row = np.arange(0,144,1)\n",
    "bcr_df = pd.DataFrame(index=bcr_row, columns=bcr_col)\n",
    "bcr_df['sum'] = 0\n",
    "\n",
    "e_benefit, s_benefit, u_benefit, e_cost, s_cost, u_cost = [bcr_df.copy() for i in range(6)]"
   ]
  },
  {
   "cell_type": "code",
   "execution_count": 21,
   "metadata": {
    "scrolled": true
   },
   "outputs": [],
   "source": [
    "# enercon\n",
    "\n",
    "for row in bcr_row:\n",
    "    for time in bcr_col:\n",
    "        e_benefit.at[row, time] = benefit(enercon['Benefit'].loc[row], time)\n",
    "        e_cost.at[row, time] = invcost(enercon['Cost'].loc[row], time) + mcost(enercon['Cost'].loc[row], time) + taxcost(enercon['Benefit'].loc[row], time)    \n",
    "    e_benefit.at[row, 'sum']= sum(e_benefit.loc[row][:-1])\n",
    "    e_cost.at[row, 'sum']= sum(e_cost.loc[row][:-1])\n",
    "\n",
    "enercon['BCR'] = e_benefit['sum'] / e_cost['sum']"
   ]
  },
  {
   "cell_type": "code",
   "execution_count": 22,
   "metadata": {},
   "outputs": [],
   "source": [
    "# suzlon\n",
    "\n",
    "for row in bcr_row:\n",
    "    for time in bcr_col:\n",
    "        s_benefit.at[row, time] = benefit(suzlon['Benefit'].loc[row], time)\n",
    "        s_cost.at[row, time] = invcost(suzlon['Cost'].loc[row], time) + mcost(suzlon['Cost'].loc[row], time) + taxcost(suzlon['Benefit'].loc[row], time)    \n",
    "    s_benefit.at[row, 'sum']= sum(s_benefit.loc[row][:-1])\n",
    "    s_cost.at[row, 'sum']= sum(s_cost.loc[row][:-1])\n",
    "\n",
    "suzlon['BCR'] = s_benefit['sum'] / s_cost['sum']"
   ]
  },
  {
   "cell_type": "code",
   "execution_count": 23,
   "metadata": {},
   "outputs": [],
   "source": [
    "# unison\n",
    "\n",
    "for row in bcr_row:\n",
    "    for time in bcr_col:\n",
    "        u_benefit.at[row, time] = benefit(unison['Benefit'].loc[row], time)\n",
    "        u_cost.at[row, time] = invcost(unison['Cost'].loc[row], time) + mcost(unison['Cost'].loc[row], time) + taxcost(unison['Benefit'].loc[row], time)    \n",
    "    u_benefit.at[row, 'sum']= sum(u_benefit.loc[row][:-1])\n",
    "    u_cost.at[row, 'sum']= sum(u_cost.loc[row][:-1])\n",
    "\n",
    "unison['BCR'] = u_benefit['sum'] / u_cost['sum']"
   ]
  },
  {
   "cell_type": "code",
   "execution_count": 24,
   "metadata": {},
   "outputs": [],
   "source": [
    "for turbine in [enercon, suzlon, unison]:\n",
    "    turbine['LCOE (idr/kwh)'] = 1/ (turbine['BCR']/price)"
   ]
  },
  {
   "cell_type": "code",
   "execution_count": 25,
   "metadata": {},
   "outputs": [],
   "source": [
    "enercon.to_csv(\"csv/enercon_result.csv\")\n",
    "suzlon.to_csv(\"csv/suzlon_result.csv\")\n",
    "unison.to_csv(\"csv/unison_result.csv\")"
   ]
  },
  {
   "cell_type": "code",
   "execution_count": 26,
   "metadata": {},
   "outputs": [],
   "source": [
    "price = 1175\n",
    "u_benefit.loc[80]['sum']/u_cost.loc[80]['sum']\n",
    "\n",
    "r_d = 4/100\n",
    "i = 80\n",
    "\n",
    "price2 = 1175\n",
    "unison['Benefit'] = price2 * unison['nwt'] * unison['AEP (kWh)']\n",
    "\n",
    "breakdown2 = pd.DataFrame(columns=bcr_col, index=['E', 'I', 'M', 'T'])\n",
    "for time in bcr_col:\n",
    "    breakdown2.at['E', time] = benefit(unison['Benefit'].loc[i], time)\n",
    "    breakdown2.at['I', time] = invcost(unison['Cost'].loc[i], time)\n",
    "    breakdown2.at['M', time] = mcost(unison['Cost'].loc[i], time)\n",
    "    breakdown2.at['T', time] = taxcost(unison['Benefit'].loc[i], time)\n",
    "breakdown2.to_csv('csv/breakdown2.csv')"
   ]
  },
  {
   "cell_type": "code",
   "execution_count": 33,
   "metadata": {},
   "outputs": [
    {
     "name": "stdout",
     "output_type": "stream",
     "text": [
      "1151.5798609310987\n",
      "883.0716024837327\n",
      "971.7717991720286\n",
      "901.1255646398463\n"
     ]
    }
   ],
   "source": [
    "for i in [68, 80, 92, 93]:\n",
    "    print(unison['Cost'].loc[i]/10**9)\n"
   ]
  },
  {
   "cell_type": "code",
   "execution_count": null,
   "metadata": {},
   "outputs": [],
   "source": [
    "0.81 "
   ]
  },
  {
   "cell_type": "code",
   "execution_count": null,
   "metadata": {},
   "outputs": [],
   "source": []
  }
 ],
 "metadata": {
  "hide_input": false,
  "kernelspec": {
   "display_name": "Python 3",
   "language": "python",
   "name": "python3"
  },
  "language_info": {
   "codemirror_mode": {
    "name": "ipython",
    "version": 3
   },
   "file_extension": ".py",
   "mimetype": "text/x-python",
   "name": "python",
   "nbconvert_exporter": "python",
   "pygments_lexer": "ipython3",
   "version": "3.8.6"
  },
  "varInspector": {
   "cols": {
    "lenName": 16,
    "lenType": 16,
    "lenVar": 40
   },
   "kernels_config": {
    "python": {
     "delete_cmd_postfix": "",
     "delete_cmd_prefix": "del ",
     "library": "var_list.py",
     "varRefreshCmd": "print(var_dic_list())"
    },
    "r": {
     "delete_cmd_postfix": ") ",
     "delete_cmd_prefix": "rm(",
     "library": "var_list.r",
     "varRefreshCmd": "cat(var_dic_list()) "
    }
   },
   "types_to_exclude": [
    "module",
    "function",
    "builtin_function_or_method",
    "instance",
    "_Feature"
   ],
   "window_display": false
  }
 },
 "nbformat": 4,
 "nbformat_minor": 4
}
